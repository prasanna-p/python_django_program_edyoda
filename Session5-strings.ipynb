{
 "cells": [
  {
   "cell_type": "code",
   "execution_count": 5,
   "metadata": {},
   "outputs": [
    {
     "name": "stdout",
     "output_type": "stream",
     "text": [
      "num 1 is 100 and num 2 is 200\n",
      "num 1 is 200 and num 2 is 100\n"
     ]
    }
   ],
   "source": [
    "#string methods\n",
    "#method 1: format() : formate the integer values with strings\n",
    "num1 = 100\n",
    "num2 = 200\n",
    "s1 = \"num 1 is {} and num 2 is {}\".format(num1,num2)\n",
    "print(s1)\n",
    "\n",
    "#indexing can be performed\n",
    "\n",
    "s1 = s1 = \"num 1 is {1} and num 2 is {0}\".format(num1,num2)\n",
    "print(s1)"
   ]
  },
  {
   "cell_type": "code",
   "execution_count": 7,
   "metadata": {},
   "outputs": [
    {
     "name": "stdout",
     "output_type": "stream",
     "text": [
      "['python', 'java', 'c', 'c++', 'html']\n",
      "python java c c++ html\n"
     ]
    }
   ],
   "source": [
    "#method 2: split() this method is used to split the string based on character and the output will be list\n",
    "s1 = \"python,java,c,c++,html\"\n",
    "l = s1.split(\",\")\n",
    "print(l)\n",
    "\n",
    "#method 3: join() it will help to join the value of list\n",
    "\n",
    "s2 = (' ').join(l)\n",
    "print(s2)"
   ]
  },
  {
   "cell_type": "code",
   "execution_count": 17,
   "metadata": {},
   "outputs": [
    {
     "name": "stdout",
     "output_type": "stream",
     "text": [
      "r,c++,c,java,python\n",
      "[5, 4, 3, 2, 1]\n"
     ]
    }
   ],
   "source": [
    "s1 = \"python,java,c,c++,r\"\n",
    "l = s1.split(\",\")\n",
    "s2 = (',').join(l[::-1])\n",
    "print(s2)\n",
    "l = [1,2,3,4,5]\n",
    "print(l[::-1])"
   ]
  },
  {
   "cell_type": "code",
   "execution_count": null,
   "metadata": {},
   "outputs": [],
   "source": [
    "find\n",
    "index\n",
    "replace\n",
    "rfind\n",
    "rindex\n",
    "count"
   ]
  },
  {
   "cell_type": "code",
   "execution_count": 20,
   "metadata": {},
   "outputs": [
    {
     "name": "stdout",
     "output_type": "stream",
     "text": [
      "7\n",
      "7\n",
      "-1\n"
     ]
    }
   ],
   "source": [
    "#method 4: find() and index() \n",
    "# index() returns error when index is not found but find() returns -1 as  it handles exception\n",
    "s1 = \"python,java,c,c++,r\"\n",
    "print(s1.find(\"java\")) \n",
    "print(s1.index(\"java\"))\n",
    "print(s1.find(\"Java\"))"
   ]
  },
  {
   "cell_type": "code",
   "execution_count": 21,
   "metadata": {},
   "outputs": [
    {
     "name": "stdout",
     "output_type": "stream",
     "text": [
      "20\n",
      "20\n"
     ]
    }
   ],
   "source": [
    "#method 5: rfind() and rindex() will start execution from right to left\n",
    "s1 = \"python,java,c,c++,r,java\"\n",
    "print(s1.rfind(\"java\"))\n",
    "print(s1.rindex(\"java\"))"
   ]
  },
  {
   "cell_type": "code",
   "execution_count": 22,
   "metadata": {},
   "outputs": [
    {
     "name": "stdout",
     "output_type": "stream",
     "text": [
      "python,java,c,c++,ruby,java\n"
     ]
    }
   ],
   "source": [
    "#method 6: replace()  \n",
    "s1 = \"python,java,c,c++,r,java\"\n",
    "print(s1.replace(\"r\",\"ruby\"))\n"
   ]
  },
  {
   "cell_type": "code",
   "execution_count": 24,
   "metadata": {},
   "outputs": [
    {
     "name": "stdout",
     "output_type": "stream",
     "text": [
      "2\n"
     ]
    }
   ],
   "source": [
    "#method 7: count() helps to find the occurance of given string\n",
    "s1 = \"python,java,c,c++,r,java\"\n",
    "print(s1.count(\"java\"))"
   ]
  },
  {
   "cell_type": "code",
   "execution_count": 45,
   "metadata": {},
   "outputs": [
    {
     "name": "stdout",
     "output_type": "stream",
     "text": [
      "12 a\n"
     ]
    }
   ],
   "source": [
    "s = \"avajvjhavdjqwq dhgx X,A mx JHA J x wVC cA CM cM mX maaaaaaaaa\"\n",
    "l = []\n",
    "max = 0\n",
    "check = ''\n",
    "ch = ''\n",
    "for i in s:\n",
    "    if i in check:\n",
    "        continue\n",
    "    elif max < s.count(i):\n",
    "        max = s.count(i)\n",
    "        ch = i\n",
    "        check+=i\n",
    "\n",
    "print(max,ch)\n",
    "    "
   ]
  },
  {
   "cell_type": "code",
   "execution_count": null,
   "metadata": {},
   "outputs": [],
   "source": [
    "lower islower\n",
    "upper isupper\n",
    "title istitle\n",
    "capitalize()"
   ]
  },
  {
   "cell_type": "code",
   "execution_count": 50,
   "metadata": {},
   "outputs": [
    {
     "name": "stdout",
     "output_type": "stream",
     "text": [
      "python string\n",
      "False\n",
      "PYTHON STRING\n",
      "False\n",
      "Python String\n",
      "False\n",
      "Python string\n",
      "PYTHON string\n"
     ]
    }
   ],
   "source": [
    "s1 = \"PYTHON string\"\n",
    "#convert every character to lower case\n",
    "print(s1.lower())\n",
    "print(s1.islower())\n",
    "#convert every character to upper case\n",
    "print(s1.upper())\n",
    "print(s1.isupper())\n",
    "#convert every 1st character of the string to upper case\n",
    "print(s1.title())\n",
    "print(s1.istitle())\n",
    "#convert 1st letter to upper case\n",
    "print(s1.capitalize())"
   ]
  },
  {
   "cell_type": "code",
   "execution_count": null,
   "metadata": {},
   "outputs": [],
   "source": [
    "isalpha()\n",
    "isdigit()\n",
    "isalnum()\n",
    "isapace()"
   ]
  },
  {
   "cell_type": "code",
   "execution_count": 56,
   "metadata": {},
   "outputs": [
    {
     "name": "stdout",
     "output_type": "stream",
     "text": [
      "False\n",
      "False\n",
      "True\n",
      "False\n",
      "False\n",
      "True\n",
      "False\n"
     ]
    }
   ],
   "source": [
    "s1 = \"abcd123\"\n",
    "s2 = \"  abc\"\n",
    "s3 =' '\n",
    "s4 =''\n",
    "print(s1.isalpha())\n",
    "print(s1.isdigit())\n",
    "print(s1.isalnum())\n",
    "print(s1.isspace())\n",
    "print(s2.isspace())\n",
    "print(s3.isspace())\n",
    "print(s4.isspace())"
   ]
  },
  {
   "cell_type": "code",
   "execution_count": null,
   "metadata": {},
   "outputs": [],
   "source": [
    "strip()\n",
    "lstrip()\n",
    "rstrip()\n",
    "\n",
    "removes the specified contents of string from left and right side and by default removes spaces from left and right og the given string \n"
   ]
  },
  {
   "cell_type": "code",
   "execution_count": 57,
   "metadata": {},
   "outputs": [
    {
     "name": "stdout",
     "output_type": "stream",
     "text": [
      "python,java\n",
      "python,java        \n",
      "         python,java\n"
     ]
    }
   ],
   "source": [
    "s = '         python,java        '\n",
    "s1 = s.strip()\n",
    "print(s1)\n",
    "s2= s.lstrip() #left side space is removed\n",
    "print(s2)\n",
    "s3 = s.rstrip() # right side space is removed\n",
    "print(s3)"
   ]
  },
  {
   "cell_type": "code",
   "execution_count": null,
   "metadata": {},
   "outputs": [],
   "source": [
    "center\n",
    "ljust\n",
    "rjust"
   ]
  },
  {
   "cell_type": "code",
   "execution_count": 59,
   "metadata": {},
   "outputs": [
    {
     "name": "stdout",
     "output_type": "stream",
     "text": [
      "@@@@@@@python@@@@@@@\n",
      "python##############\n",
      "$$$$$$$$$$$$$$python\n"
     ]
    }
   ],
   "source": [
    "s =\"python\"\n",
    "s1 = s.center(20,\"@\")\n",
    "print(s1)\n",
    "s2 = s.ljust(20,\"#\")\n",
    "print(s2)\n",
    "s3 = s.rjust(20,\"$\")\n",
    "print(s3)"
   ]
  },
  {
   "cell_type": "code",
   "execution_count": 73,
   "metadata": {},
   "outputs": [
    {
     "name": "stdout",
     "output_type": "stream",
     "text": [
      "lEArmIng pythOn Is EAsy\n"
     ]
    }
   ],
   "source": [
    "s = \"learming python is easy\"\n",
    "a = ''\n",
    "for i in s:\n",
    "    if i in \"aeiou\":\n",
    "        s=s.replace(i,i.upper()) \n",
    "print(s)"
   ]
  },
  {
   "cell_type": "code",
   "execution_count": 79,
   "metadata": {},
   "outputs": [
    {
     "name": "stdout",
     "output_type": "stream",
     "text": [
      "string is capitalized\n"
     ]
    }
   ],
   "source": [
    "s = \"Learming python is easy\"\n",
    "if s[0].isupper() and s[1:].islower():\n",
    "    print(\"string is capitalized\")\n",
    "else:\n",
    "    print(\"string is not capitalized\")\n"
   ]
  },
  {
   "cell_type": "code",
   "execution_count": null,
   "metadata": {},
   "outputs": [],
   "source": []
  }
 ],
 "metadata": {
  "kernelspec": {
   "display_name": "Python 3",
   "language": "python",
   "name": "python3"
  },
  "language_info": {
   "codemirror_mode": {
    "name": "ipython",
    "version": 3
   },
   "file_extension": ".py",
   "mimetype": "text/x-python",
   "name": "python",
   "nbconvert_exporter": "python",
   "pygments_lexer": "ipython3",
   "version": "3.7.0"
  }
 },
 "nbformat": 4,
 "nbformat_minor": 2
}
