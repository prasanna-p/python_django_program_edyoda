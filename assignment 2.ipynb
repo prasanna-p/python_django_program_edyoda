{
 "cells": [
  {
   "cell_type": "raw",
   "metadata": {},
   "source": [
    "Implement a Bike Rental System with following features.\n",
    "\n",
    "Customers\n",
    "\n",
    "1. See available bikes on the shop\n",
    "2. Rent bikes on hourly basis $5 per hour.\n",
    "\n",
    "3. Rent bikes on daily basis $20 per day.\n",
    "\n",
    "4. Rent bikes on weekly basis $60 per week.\n",
    "5. Group Rental, a promotion that can include from 3 to 5 Rentals (of any type) with a \n",
    "    discount of 30% of the total price\n",
    "\n",
    "Rental shops\n",
    "\n",
    "1. Issue a bill when customer decides to return the bike.\n",
    "2. Display available inventory\n",
    "3. Take requests on hourly, daily and weekly basis by cross verifying stock"
   ]
  },
  {
   "cell_type": "code",
   "execution_count": 86,
   "metadata": {},
   "outputs": [],
   "source": [
    "#creating a BIKE shop class\n",
    "class BikeShop:\n",
    "    bike_list = []\n",
    "    \n",
    "    @classmethod\n",
    "    def bike_collection(cls,obj): #creating array of bike objects\n",
    "        cls.bike_list.append(obj)\n",
    "    \n",
    "    @classmethod\n",
    "    def show_availabilty(cls):#it shows the booked and available bikes\n",
    "        print(\"**************Welcome to Bike Rental Shop**************\")\n",
    "        print(\"{}\\t{}\\t{}\\t{}\".format(\"Bike_id\",\"Bike name\",\"number of bikes\",\"booked bikes\"))\n",
    "        count = 0\n",
    "        for bike in BikeShop.bike_list:\n",
    "            count+=1\n",
    "            print(\"{}\\t{:10}\\t{:10}\\t{:10}\".format(count,bike.bike_name,bike.count,bike.booked))\n",
    "        print(\"would you like to rent a Bike? press y for Yes and n for NO\")\n",
    "        ch = input()\n",
    "        if ch == \"Y\" or ch == \"y\":\n",
    "            return True\n",
    "        else:\n",
    "            return False\n",
    "        \n",
    "    \n",
    "    def __init__(self,bike_name,count): #init method to add basic bike details\n",
    "        self.bike_name = bike_name\n",
    "        self.count = count\n",
    "        self.booked = 0\n",
    "        BikeShop.bike_collection(self)\n",
    "    \n",
    "    def update_bike_count(self,new_count): #updating the number of bikes\n",
    "        self.count = new_count\n",
    "        "
   ]
  },
  {
   "cell_type": "code",
   "execution_count": 87,
   "metadata": {},
   "outputs": [
    {
     "name": "stdout",
     "output_type": "stream",
     "text": [
      "**************Welcome to Bike Rental Shop**************\n",
      "Bike_id\tBike name\tnumber of bikes\tbooked bikes\n",
      "1\tsplender  \t         6\t         0\n",
      "2\thonda     \t         2\t         0\n",
      "3\troyal_enfield\t         4\t         0\n",
      "4\tsuzuki    \t         3\t         0\n",
      "would you like to rent a Bike? press y for Yes and n for NO\n",
      "n\n"
     ]
    },
    {
     "data": {
      "text/plain": [
       "False"
      ]
     },
     "execution_count": 87,
     "metadata": {},
     "output_type": "execute_result"
    }
   ],
   "source": [
    "#creating bike objects and storing them in bike array\n",
    "b1 = BikeShop(\"splender\",6)\n",
    "b2 = BikeShop(\"honda\",2)\n",
    "b3 = BikeShop(\"royal_enfield\",4)\n",
    "b4 = BikeShop(\"suzuki\",3)\n",
    "\n",
    "BikeShop.show_availabilty()"
   ]
  },
  {
   "cell_type": "code",
   "execution_count": 88,
   "metadata": {},
   "outputs": [
    {
     "name": "stdout",
     "output_type": "stream",
     "text": [
      "**************Welcome to Bike Rental Shop**************\n",
      "Bike_id\tBike name\tnumber of bikes\tbooked bikes\n",
      "1\tsplender  \t         6\t         0\n",
      "2\thonda     \t         2\t         0\n",
      "3\troyal_enfield\t         4\t         0\n",
      "4\tsuzuki    \t         5\t         0\n",
      "would you like to rent a Bike? press y for Yes and n for NO\n",
      "n\n"
     ]
    },
    {
     "data": {
      "text/plain": [
       "False"
      ]
     },
     "execution_count": 88,
     "metadata": {},
     "output_type": "execute_result"
    }
   ],
   "source": [
    "#updating the bike count\n",
    "b4.update_bike_count(5)\n",
    "BikeShop.show_availabilty()"
   ]
  },
  {
   "cell_type": "code",
   "execution_count": 89,
   "metadata": {},
   "outputs": [],
   "source": [
    "import time\n",
    "#this module contains Bill and Customer class\n",
    "class Bill:\n",
    "    @classmethod\n",
    "    def issue_bill(cls,obj,total_duration):#this part of the function will calculate the bill amount of the customer\n",
    "        offer = False\n",
    "        if obj.booking_details[\"time\"] == \"hour\":\n",
    "            \n",
    "            bill_amount = (((1 * total_duration) * 5) * obj.booking_details[\"count\"])\n",
    "            \n",
    "        elif obj.booking_details[\"time\"] == \"day\":\n",
    "            \n",
    "            bill_amount = ((((1 * total_duration)/24) * 20) * obj.booking_details[\"count\"])\n",
    "            total_duration = ((1 * total_duration)/24)\n",
    "            \n",
    "        elif obj.booking_details[\"time\"] == \"week\":\n",
    "            \n",
    "            bill_amount = (((((1 * total_duration)/24)/7) * 60) * obj.booking_details[\"count\"])\n",
    "            total_duration = (((1 * total_duration)/24)/7)\n",
    "        \n",
    "        if obj.booking_details[\"count\"] >= 3 and obj.booking_details[\"count\"] <=5:\n",
    "            offer_billamount = bill_amount - ((bill_amount / 100) * 30)\n",
    "            offer = True\n",
    "            \n",
    "        print(\"************Bill************\")\n",
    "        print(\"name :{}\".format(obj.name))\n",
    "        print(\"email :{}\".format(obj.email))\n",
    "        print(\"\\n\")\n",
    "        print(\"{}\\t{:25}{:25}\".format(\"nuber of bikes\",\"mode\",\"duration\"))\n",
    "        print(\"\\n\")\n",
    "        print(\"{:10}\\t{:15}{:15}\".format(obj.booking_details[\"count\"],obj.booking_details[\"time\"],total_duration))\n",
    "        print(\"\\n\\n\")\n",
    "        if offer:\n",
    "            print(\"calculated total amount is ${}\".format(round(bill_amount,2)))\n",
    "            print(\"\\nbill after the offer is appied ${}\".format(round(offer_billamount,2)))\n",
    "            print(\"\\n\\nCongrajulations since your group rental count is more than three bikes we are offering 30% of discount for you\")\n",
    "        else:\n",
    "            print(\"total_bill: ${}\".format(round(bill_amount,2)))\n",
    "        print(\"\\nthank you for visiting\")\n",
    "        if obj.booking_details[\"count\"] > 1:\n",
    "            bikes = obj.booking_details[\"bike\"]\n",
    "            for bike in bikes:\n",
    "                bike.count +=1\n",
    "                bike.booked -=1\n",
    "        else:\n",
    "            obj.booking_details[\"bike\"].count +=1\n",
    "            obj.booking_details[\"bike\"].booked -=1\n",
    "        \n",
    "\n",
    "class Customer:\n",
    "    def __init__(self,name,email):\n",
    "        self.name = name\n",
    "        self.email = email\n",
    "        self.status = 0\n",
    "    \n",
    "    def single_rent(self):\n",
    "        print(\"choose the bike id you want to rent\")\n",
    "        ch = int(input())\n",
    "        if BikeShop.bike_list[ch-1] and BikeShop.bike_list[ch-1].count >= 1:\n",
    "            BikeShop.bike_list[ch-1].count = BikeShop.bike_list[ch-1].count - 1 \n",
    "            BikeShop.bike_list[ch-1].booked += 1\n",
    "            return BikeShop.bike_list[ch-1]\n",
    "        else:\n",
    "            print(\"bike is not available\")\n",
    "            return False\n",
    "    \n",
    "    def group_rent(self):\n",
    "        print(\"enter the number of bikes you want\")\n",
    "        ch = int(input())\n",
    "        bike = []\n",
    "        print(\"enter the bike ids\")\n",
    "        for _ in range(ch):\n",
    "            i = int(input())\n",
    "            bike.append(i)\n",
    "        bike_obj = []\n",
    "        for i in bike:\n",
    "            if BikeShop.bike_list[i-1] and BikeShop.bike_list[i-1].count >=1:\n",
    "                BikeShop.bike_list[i-1].count = BikeShop.bike_list[i-1].count - 1 \n",
    "                BikeShop.bike_list[i-1].booked += 1\n",
    "                bike_obj.append(BikeShop.bike_list[i-1])\n",
    "            else:\n",
    "                print(\"bike is not available\")\n",
    "                return False\n",
    "        return bike_obj,ch\n",
    "        \n",
    "    def rental_type(self,ch):\n",
    "        if ch == \"1\":\n",
    "            return \"single\"\n",
    "        elif ch == \"2\":\n",
    "            return \"group\"\n",
    "        else:\n",
    "            return False\n",
    "    \n",
    "    def rental_timeType(self,ch):\n",
    "        if ch == \"1\":\n",
    "            return \"hour\"\n",
    "        elif ch == \"2\":\n",
    "            return \"day\"\n",
    "        elif ch == \"3\":\n",
    "            return \"week\"\n",
    "        else:\n",
    "            return False\n",
    "    \n",
    "    def rent_bike(self): #bike renting functionality\n",
    "        if self.status:\n",
    "            print(\"you have already booked the bike\")\n",
    "            return False\n",
    "        print(\"please finish the following survey to book the Bike/Bikes\")\n",
    "        print(\"choose the mode of bike rental\\n 1 single\\n 2 group(number of bikes has to be more than 1)\\n\")\n",
    "        ch = input()\n",
    "        mode = self.rental_type(ch)\n",
    "        if mode:\n",
    "            print(\"choose on what basics you wants to rent the bike?\\n 1 Hour($5 per hour)\\n 2 Day($20 a day)\\n 3 week($60 a week)\\n\")\n",
    "            ch = input()\n",
    "            t = self.rental_timeType(ch)\n",
    "            if t:\n",
    "                if mode == \"single\":\n",
    "                    bike = self.single_rent()\n",
    "                    count = 1\n",
    "                    if bike:\n",
    "                        pass\n",
    "                    else:\n",
    "                        return False\n",
    "                else:\n",
    "                    bike,count = self.group_rent()\n",
    "                start = time.time() #initial time has been set\n",
    "                self.booking_details = {\"mode\":mode,\"time\":t,\"bike\":bike,\"count\":count,\"start\":start}\n",
    "                self.status = 1\n",
    "                print(\"booking of you bike has been sucessfull\")\n",
    "          \n",
    "    def show_available_bikes(self):\n",
    "        if BikeShop.show_availabilty():\n",
    "            self.rent_bike()\n",
    "        else:\n",
    "            return \"thank you for visitig our site\"\n",
    "    def request_bill(self): #bill request function \n",
    "        end = time.time() #final time\n",
    "        total_duration =round(abs(end - self.booking_details[\"start\"]),2)\n",
    "        self.status = 0\n",
    "        Bill.issue_bill(self,total_duration)\n",
    "    "
   ]
  },
  {
   "cell_type": "code",
   "execution_count": 90,
   "metadata": {},
   "outputs": [],
   "source": [
    "customer1 = Customer(\"prasanna\",\"xyz@gmail.com\") #creating first customer object"
   ]
  },
  {
   "cell_type": "code",
   "execution_count": 91,
   "metadata": {},
   "outputs": [
    {
     "name": "stdout",
     "output_type": "stream",
     "text": [
      "**************Welcome to Bike Rental Shop**************\n",
      "Bike_id\tBike name\tnumber of bikes\tbooked bikes\n",
      "1\tsplender  \t         6\t         0\n",
      "2\thonda     \t         2\t         0\n",
      "3\troyal_enfield\t         4\t         0\n",
      "4\tsuzuki    \t         5\t         0\n",
      "would you like to rent a Bike? press y for Yes and n for NO\n",
      "y\n",
      "please finish the following survey to book the Bike/Bikes\n",
      "choose the mode of bike rental\n",
      " 1 single\n",
      " 2 group(number of bikes has to be more than 1)\n",
      "\n",
      "1\n",
      "choose on what basics you wants to rent the bike?\n",
      " 1 Hour($5 per hour)\n",
      " 2 Day($20 a day)\n",
      " 3 week($60 a week)\n",
      "\n",
      "1\n",
      "choose the bike id you want to rent\n",
      "1\n",
      "booking of you bike has been sucessfull\n"
     ]
    }
   ],
   "source": [
    "customer1.show_available_bikes() #cheking availability and renting the bike"
   ]
  },
  {
   "cell_type": "code",
   "execution_count": 79,
   "metadata": {},
   "outputs": [],
   "source": [
    "customer2 = Customer(\"pqr\",\"abc@gmail.com\")#creating customer 2 object"
   ]
  },
  {
   "cell_type": "code",
   "execution_count": 97,
   "metadata": {},
   "outputs": [
    {
     "name": "stdout",
     "output_type": "stream",
     "text": [
      "**************Welcome to Bike Rental Shop**************\n",
      "Bike_id\tBike name\tnumber of bikes\tbooked bikes\n",
      "1\tsplender  \t         5\t         1\n",
      "2\thonda     \t         1\t         1\n",
      "3\troyal_enfield\t         3\t         1\n",
      "4\tsuzuki    \t         5\t         0\n",
      "would you like to rent a Bike? press y for Yes and n for NO\n",
      "y\n",
      "please finish the following survey to book the Bike/Bikes\n",
      "choose the mode of bike rental\n",
      " 1 single\n",
      " 2 group(number of bikes has to be more than 1)\n",
      "\n",
      "2\n",
      "choose on what basics you wants to rent the bike?\n",
      " 1 Hour($5 per hour)\n",
      " 2 Day($20 a day)\n",
      " 3 week($60 a week)\n",
      "\n",
      "2\n",
      "enter the number of bikes you want\n",
      "4\n",
      "enter the bike ids\n",
      "1\n",
      "2\n",
      "3\n",
      "4\n",
      "booking of you bike has been sucessfull\n"
     ]
    }
   ],
   "source": [
    "customer2.show_available_bikes()"
   ]
  },
  {
   "cell_type": "code",
   "execution_count": 94,
   "metadata": {},
   "outputs": [
    {
     "data": {
      "text/plain": [
       "1"
      ]
     },
     "execution_count": 94,
     "metadata": {},
     "output_type": "execute_result"
    }
   ],
   "source": [
    "customer1.status"
   ]
  },
  {
   "cell_type": "code",
   "execution_count": 98,
   "metadata": {},
   "outputs": [
    {
     "name": "stdout",
     "output_type": "stream",
     "text": [
      "************Bill************\n",
      "name :prasanna\n",
      "email :xyz@gmail.com\n",
      "\n",
      "\n",
      "nuber of bikes\tmode                     duration                 \n",
      "\n",
      "\n",
      "         3\tday                    2.12875\n",
      "\n",
      "\n",
      "\n",
      "calculated total amount is $127.73\n",
      "\n",
      "bill after the offer is appied $89.41\n",
      "\n",
      "\n",
      "Congrajulations since your group rental count is more the 3 bikes we are offering 30% of discount for you\n",
      "\n",
      "thank you for visiting\n"
     ]
    }
   ],
   "source": [
    "customer1.request_bill() #requesting bill"
   ]
  },
  {
   "cell_type": "code",
   "execution_count": 99,
   "metadata": {},
   "outputs": [
    {
     "name": "stdout",
     "output_type": "stream",
     "text": [
      "************Bill************\n",
      "name :pqr\n",
      "email :abc@gmail.com\n",
      "\n",
      "\n",
      "nuber of bikes\tmode                     duration                 \n",
      "\n",
      "\n",
      "         4\tday            1.7074999999999998\n",
      "\n",
      "\n",
      "\n",
      "calculated total amount is $136.6\n",
      "\n",
      "bill after the offer is appied $95.62\n",
      "\n",
      "\n",
      "Congrajulations since your group rental count is more the 3 bikes we are offering 30% of discount for you\n",
      "\n",
      "thank you for visiting\n"
     ]
    }
   ],
   "source": [
    "customer2.request_bill()"
   ]
  },
  {
   "cell_type": "code",
   "execution_count": 100,
   "metadata": {},
   "outputs": [
    {
     "name": "stdout",
     "output_type": "stream",
     "text": [
      "**************Welcome to Bike Rental Shop**************\n",
      "Bike_id\tBike name\tnumber of bikes\tbooked bikes\n",
      "1\tsplender  \t         6\t         0\n",
      "2\thonda     \t         2\t         0\n",
      "3\troyal_enfield\t         4\t         0\n",
      "4\tsuzuki    \t         5\t         0\n",
      "would you like to rent a Bike? press y for Yes and n for NO\n",
      "n\n"
     ]
    },
    {
     "data": {
      "text/plain": [
       "'thank you for visitig our site'"
      ]
     },
     "execution_count": 100,
     "metadata": {},
     "output_type": "execute_result"
    }
   ],
   "source": [
    "customer1.show_available_bikes() #checking the availability"
   ]
  }
 ],
 "metadata": {
  "kernelspec": {
   "display_name": "Python 3",
   "language": "python",
   "name": "python3"
  },
  "language_info": {
   "codemirror_mode": {
    "name": "ipython",
    "version": 3
   },
   "file_extension": ".py",
   "mimetype": "text/x-python",
   "name": "python",
   "nbconvert_exporter": "python",
   "pygments_lexer": "ipython3",
   "version": "3.7.0"
  }
 },
 "nbformat": 4,
 "nbformat_minor": 2
}
