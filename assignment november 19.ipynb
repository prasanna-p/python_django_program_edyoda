{
 "cells": [
  {
   "cell_type": "code",
   "execution_count": 3,
   "metadata": {},
   "outputs": [
    {
     "name": "stdout",
     "output_type": "stream",
     "text": [
      "29-2-2000 is a valid date\n"
     ]
    }
   ],
   "source": [
    "import re\n",
    "def is_leap(year):\n",
    "    if year % 4 == 0:\n",
    "        if year % 100 == 0:\n",
    "            if year % 400 == 0:\n",
    "                return True\n",
    "            else:\n",
    "                return False\n",
    "        else:\n",
    "            return True\n",
    "    else:\n",
    "        return False\n",
    "    \n",
    "\n",
    "def valid_date(date1):\n",
    "    date = int(date1.group(1))\n",
    "    month = int(date1.group(2))\n",
    "    year = int(date1.group(3))\n",
    "    if month > 12 or date > 31:\n",
    "        return False\n",
    "    elif month == 2:\n",
    "        if is_leap(year):\n",
    "            return date <= 29\n",
    "        else:\n",
    "            return date <=28\n",
    "    else:\n",
    "        if month < 8:\n",
    "            if month % 2 == 0:\n",
    "                return date <= 30\n",
    "            else:\n",
    "                return date <= 31\n",
    "        else:\n",
    "            if month % 2 == 0:\n",
    "                return date <= 31\n",
    "            else:\n",
    "                return date <= 30\n",
    "            \n",
    "\n",
    "date = \"29-2-2000\"\n",
    "date_pattern = re.compile(\"(\\d{1,2})-(\\d{1,2})-(\\d{4})\")\n",
    "match_date_pattern = re.search(date_pattern,date)\n",
    "if valid_date(match_date_pattern):\n",
    "    print(\"{} is a valid date\".format(match_date_pattern.group()))\n",
    "else:\n",
    "    print(\"invalid date\")"
   ]
  },
  {
   "cell_type": "code",
   "execution_count": 4,
   "metadata": {},
   "outputs": [
    {
     "name": "stdout",
     "output_type": "stream",
     "text": [
      "prasa_0045.pradha_na_s@gmail.com is a valid email\n"
     ]
    }
   ],
   "source": [
    "import re\n",
    "email = \"prasa_0045.pradha_na_s@gmail.com\"\n",
    "email_pattern = re.compile(\"^[a-zA-Z]{1}(_\\w+)?(\\w+)?(\\.\\w+)?(_\\w+)?@\\w+(\\.[a-z]{2,3}){1,2}$\")\n",
    "email_match = re.search(email_pattern,email)\n",
    "if email_match:\n",
    "    print(\"{} is a valid email\".format(email_match.group()))\n",
    "else:\n",
    "    print(\"invalid email\")\n"
   ]
  },
  {
   "cell_type": "code",
   "execution_count": null,
   "metadata": {},
   "outputs": [],
   "source": [
    "import re\n",
    "url_str = \"The code is present at url www.edyoda.com/code/python or www.github.com/edyoda/python\"\n",
    "url_pattern = re.compile(\"(w{3}\\.\\w+\\.[a-z]{3}[/\\w+]+)\")\n",
    "url_match = re.findall(url_pattern,url_str)\n",
    "word_list = url_str.split(\" \")\n",
    "for url in url_match:\n",
    "    if url in word_list:\n",
    "        anchor = \"<a href = {} > {} </a>\".format(url,url)\n",
    "        word_list[word_list.index(url)] = anchor\n",
    "new_url_added_line = (\" \").join(word_list)\n",
    "print(new_url_added_line)"
   ]
  },
  {
   "cell_type": "code",
   "execution_count": null,
   "metadata": {},
   "outputs": [],
   "source": [
    "import re\n",
    "\n",
    "file_pointer1 = open(\"pep1.txt\",\"r\",encoding=\"utf-8\")\n",
    "content1 = file_pointer1.read()\n",
    "\n",
    "file_pointer2 = open(\"pep2.txt\",\"r\",encoding=\"utf-8\")\n",
    "content2 = file_pointer2.read()\n",
    "\n",
    "file_pointer1.close()\n",
    "file_pointer2.close()\n",
    "\n",
    "num_pattern1 = re.compile(\"\\d+\")\n",
    "num1 = re.search(num_pattern1,content1)\n",
    "\n",
    "num_pattern2 = re.compile(\"\\d+\")\n",
    "num2 = re.search(num_pattern2,content2)\n",
    "\n",
    "new_file = open(\"pep3.txt\",\"w+\")\n",
    "\n",
    "if int(num1.group()) < int(num2.group()):\n",
    "    new_file.write(content1)\n",
    "    new_file.write(content2)\n",
    "    \n",
    "else:\n",
    "    \n",
    "    new_file.write(content2)\n",
    "    new_file.write(content1)\n",
    "\n",
    "new_file.seek(0)\n",
    "content3 = new_file.read()\n",
    "\n",
    "new_file.close()\n",
    "print(content3)"
   ]
  }
 ],
 "metadata": {
  "kernelspec": {
   "display_name": "Python 3",
   "language": "python",
   "name": "python3"
  },
  "language_info": {
   "codemirror_mode": {
    "name": "ipython",
    "version": 3
   },
   "file_extension": ".py",
   "mimetype": "text/x-python",
   "name": "python",
   "nbconvert_exporter": "python",
   "pygments_lexer": "ipython3",
   "version": "3.7.0"
  }
 },
 "nbformat": 4,
 "nbformat_minor": 2
}
