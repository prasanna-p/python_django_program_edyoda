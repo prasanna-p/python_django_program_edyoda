{
 "cells": [
  {
   "cell_type": "markdown",
   "metadata": {},
   "source": [
    "1.In the pre-smartphone era,each number key is assigned a subset of the alphabet {a,b,…,z}. \n",
    "    - 2 is assigned {a,b,c}, \n",
    "    - 3 is assigned {d,e,f} \n",
    "    - 4 is assigned {g,h,i} \n",
    "    - 5 is assigned {j,k,l}\n",
    "    - 6 is assigned {m,n,o} \n",
    "    - 7 is assigned {p,q,r,s}\n",
    "    - 8 is assigned {t,u,v} \n",
    "    - 9 is assigned {w,x,y,z}\n",
    "    \n",
    "Write a function numbers_to_chars() to find the characters generated using key 9999335533. \n",
    "Output should be \"zeke\"\n",
    "\n",
    "Function Name : numbers_to_chars()\n",
    "Input : Integer number sequence\n",
    "Output : Str"
   ]
  },
  {
   "cell_type": "code",
   "execution_count": 7,
   "metadata": {},
   "outputs": [
    {
     "name": "stdout",
     "output_type": "stream",
     "text": [
      "zeke\n"
     ]
    }
   ],
   "source": [
    "import re\n",
    "pre_smartphone = {2:['a','b','c'],3:['d','e','f'],4:['g','h','i'],\n",
    "                  5:['j','k','l'],6:['m','n','o'],7:['p','q','r','s'],\n",
    "                  8:['t','u','v'],9:['w','x','y','z']}\n",
    "\n",
    "def numbers_to_chars(key):\n",
    "    key = str(key)\n",
    "    result = \"\"\n",
    "    while key:\n",
    "        ch = key[0]\n",
    "        pattern = re.compile('{}+'.format(ch))\n",
    "        match = re.search(pattern,key)\n",
    "        result = result+pre_smartphone[int(ch)][len(match.group())-1]\n",
    "        key = key.replace(match.group(),\"\",1)\n",
    "    return result\n",
    "    \n",
    "\n",
    "key = 9999335533 #taking integer input\n",
    "result = numbers_to_chars(key) #calling function \n",
    "\n",
    "print(result)\n",
    "\n",
    "\n",
    "    "
   ]
  },
  {
   "cell_type": "markdown",
   "metadata": {},
   "source": [
    "2.Given a dict of tickets(\"to\":\"from\")\n",
    "\n",
    "{\"Chennai\":\"Banglore\",\"Bombay\":\"Delhi\",\"Goa\":\"Chennai\",\"Delhi\":\"Goa\"} find out the sequence of travel.\n",
    "\n",
    "Expected Output : Bombay->Delhi, Delhi->Goa, Goa->Chennai, Chennai->Banglore\n",
    "\n",
    "Function Name : travel_sequence\n",
    "Input : dict \n",
    "\n",
    "Output : dict"
   ]
  },
  {
   "cell_type": "code",
   "execution_count": 47,
   "metadata": {},
   "outputs": [
    {
     "name": "stdout",
     "output_type": "stream",
     "text": [
      "Bombay->Delhi, Delhi->Goa, Goa->Chennai, Chennai->Banglore"
     ]
    }
   ],
   "source": [
    "travel_route = {\"Chennai\":\"Banglore\",\"Bombay\":\"Delhi\",\"Goa\":\"Chennai\",\"Delhi\":\"Goa\"} #input\n",
    "\n",
    "def route(place):\n",
    "    count = 0\n",
    "    dic = {}\n",
    "    while place in travel_route:\n",
    "        count+=1\n",
    "        dic.setdefault(place,travel_route[place])\n",
    "        place = travel_route[place]\n",
    "    return count,dic\n",
    "        \n",
    "\n",
    "def travel_sequence(travel_route):\n",
    "    for place in travel_route:\n",
    "        count,result = route(place)\n",
    "        if count == len(travel_route):\n",
    "            return result\n",
    "\n",
    "result = travel_sequence(travel_route) #output()\n",
    "\n",
    "for from_place,to in result.items():\n",
    "    if list(result.keys())[-1] == from_place:\n",
    "        print(\"{}->{}\".format(from_place,to),end=\"\")\n",
    "    else:   \n",
    "        print(\"{}->{}\".format(from_place,to),end=\", \")\n",
    "    "
   ]
  },
  {
   "cell_type": "markdown",
   "metadata": {},
   "source": [
    "3.Given a dictionary that associates the names of states with a list of the names of cities that appear in it,write a program that creates a new dictionary that associates the name of a city with the list of states that it appears in.\n",
    "\n",
    "As an example, if the first dictionary is\n",
    "\n",
    "Input :\n",
    "states = {'New Hampshire': ['Concord', 'Hanover'],\n",
    "\n",
    "'Massachusetts': ['Boston', 'Concord', 'Springfield'],\n",
    "\n",
    "'Illinois': ['Chicago', 'Springfield', 'Peoria']\n",
    "}\n",
    "\n",
    "Output:\n",
    "\n",
    "cities = {'Hanover': ['New Hampshire'],\n",
    "\n",
    "'Chicago': ['Illinois'],'Boston': ['Massachusetts'], \n",
    "\n",
    "'Peoria': ['Illinois'],'Concord': ['New Hampshire','Massachusetts'],\n",
    "\n",
    "'Springfield': ['Massachusetts', 'Illinois']\n",
    "}\n",
    "\n",
    "Function Name : city_with_states\n",
    "Input : dict \n",
    "Output : dict"
   ]
  },
  {
   "cell_type": "code",
   "execution_count": 57,
   "metadata": {},
   "outputs": [
    {
     "name": "stdout",
     "output_type": "stream",
     "text": [
      "{'Springfield': ['Massachusetts', 'Illinois'], 'Peoria': ['Illinois'], 'Boston': ['Massachusetts'], 'Hanover': ['New Hampshire'], 'Chicago': ['Illinois'], 'Concord': ['New Hampshire', 'Massachusetts']}\n"
     ]
    }
   ],
   "source": [
    "states = {'New Hampshire': ['Concord', 'Hanover'],\n",
    "\n",
    "'Massachusetts': ['Boston', 'Concord', 'Springfield'],\n",
    "\n",
    "'Illinois': ['Chicago', 'Springfield', 'Peoria'] }\n",
    "\n",
    "def city_with_states(unique_city_names):\n",
    "    city_dic = {}\n",
    "    for city in unique_city_names:\n",
    "        city_dic[city] = []\n",
    "        for state in states:\n",
    "            if city in states[state]:\n",
    "                city_dic[city].append(state)\n",
    "    return city_dic\n",
    "                \n",
    "\n",
    "city_list_objects = list(states.values())\n",
    "l2 = [j for i in l1 for j in i]\n",
    "unique_city_names = list(set(l2)) #putting all unique city names in to a list\n",
    "\n",
    "\n",
    "result = city_with_states(unique_city_names)\n",
    "\n",
    "print(result)"
   ]
  },
  {
   "cell_type": "markdown",
   "metadata": {},
   "source": [
    "4.How do you check if a given String contains valid parentheses?\n",
    "Given a string containing just the characters '(', ')', '{', '}', '[' and ']', write a program in python to check if the input string is valid. The brackets must close in the correct order, \"()\" and \"()[]{}\" are all valid but \"(]\" and \"([)]\" are not.\n",
    "\n",
    "Function Name : check_parentheses\n",
    "Input : str\n",
    "Output : True/False"
   ]
  },
  {
   "cell_type": "code",
   "execution_count": 139,
   "metadata": {},
   "outputs": [
    {
     "name": "stdout",
     "output_type": "stream",
     "text": [
      "True False\n"
     ]
    }
   ],
   "source": [
    "\n",
    "def check(pattern,paranthese):\n",
    "    if paranthese == (len(pattern)-1) and (pattern[paranthese] == '(' or pattern[paranthese] == '{' or pattern[paranthese] == '['):\n",
    "        return False\n",
    "    elif paranthese == 0 and (pattern[paranthese] == ')' or pattern[paranthese] == '}' or pattern[paranthese] == ']'):\n",
    "        return False\n",
    "    elif pattern[paranthese] == \"(\":\n",
    "        if pattern[paranthese+1] == ']' or pattern[paranthese+1] == '}':\n",
    "            return False\n",
    "    elif pattern[paranthese] == \"[\":\n",
    "        if pattern[paranthese+1] == ')' or pattern[paranthese+1] == '}':\n",
    "            return False\n",
    "    elif pattern[paranthese] == \"{\":\n",
    "        if pattern[paranthese+1] == ')' or pattern[paranthese+1] == ']':\n",
    "            return False\n",
    "    else:\n",
    "        return True\n",
    "\n",
    "def check_parentheses(pattern):\n",
    "    if pattern:\n",
    "        if pattern.count(\"(\") == pattern.count(\")\") and pattern.count(\"[\") == pattern.count(\"]\") and pattern.count(\"{\") == pattern.count(\"}\"):\n",
    "            for paranthese in range(len(pattern)):\n",
    "                result = check(pattern,paranthese)\n",
    "                if result == False:\n",
    "                    break\n",
    "            return result\n",
    "        else:\n",
    "            return False\n",
    "    else:\n",
    "        print(\"invalid string\")\n",
    "\n",
    "        \n",
    "            \n",
    "\n",
    "\n",
    "s = \"{[([{[{[{}]}]}])]}\"\n",
    "s2 = \"{)[]()}\"\n",
    "\n",
    "result = check_parentheses(s)\n",
    "result2 = check_parentheses(s2)\n",
    "\n",
    "print(result,result2)\n"
   ]
  },
  {
   "cell_type": "markdown",
   "metadata": {},
   "source": [
    "5.Write a program to convert Integer to Roman String. For example, if a given integer is 5 then your program should print \"V\".\n",
    "\n",
    "Function Name : int_roman\n",
    "Input : int\n",
    "Output : str"
   ]
  },
  {
   "cell_type": "code",
   "execution_count": 140,
   "metadata": {},
   "outputs": [
    {
     "name": "stdout",
     "output_type": "stream",
     "text": [
      "198\n",
      "CXCVIII\n"
     ]
    }
   ],
   "source": [
    "int_number = [1, 4, 5, 9, 10, 40, 50, 90, 100, 500, 900, 1000]\n",
    "roman_number_list = ['I', 'IV', 'V', 'IX', 'X', 'XL', 'L', 'XC', 'C', 'D', 'CM', 'M']\n",
    "\n",
    "def int_roman(integer_num):\n",
    "    i = len(int_number) - 1\n",
    "    roman_number = \"\"\n",
    "    while integer_num:\n",
    "        r = integer_num // int_number[i]\n",
    "        integer_num %= int_number[i]\n",
    "        roman_number = roman_number + roman_number_list[i]*r\n",
    "        i-=1\n",
    "        \n",
    "    return roman_number\n",
    "\n",
    "integer_num = int(input())\n",
    "roman_num = int_roman(integer_num)\n",
    "print(\"{}\".format(roman_num))"
   ]
  },
  {
   "cell_type": "markdown",
   "metadata": {},
   "source": [
    "6.Write a program utility that counts the number of lines of actual python code in a. For the purpose of this exercise, a line is counted if it contains something other than whitespace or text in a comment.\n",
    "\n",
    "remember that comment start sequences that appear inside python strings should be ignored.\n",
    "\n",
    "Function Name : count_code_lines\n",
    "Input : str\n",
    "Output : int"
   ]
  },
  {
   "cell_type": "code",
   "execution_count": 162,
   "metadata": {},
   "outputs": [
    {
     "name": "stdout",
     "output_type": "stream",
     "text": [
      "10\n"
     ]
    }
   ],
   "source": [
    "import re\n",
    "input_code = \"\"\"\n",
    "#Linear search implementation\n",
    "#Takes list and a key as input and returns True or False as answer\n",
    "def linear_saerch(l,key):\n",
    "    for value in l:\n",
    "        if key == value:\n",
    "            return True #Return True is key exist\n",
    "    else:\n",
    "        return False #Return False if key does not exist\n",
    "\n",
    "l = [100,200,300,400,500,600]\n",
    "key = 500\n",
    "result = linear_search(l,key)\n",
    "print(result)\n",
    "\"\"\"\n",
    "def count_code_lines(line):\n",
    "    string = line.lstrip()\n",
    "    pattern = re.compile('^\\w+')\n",
    "    match = re.search(pattern,string)\n",
    "    if match:\n",
    "        return 1\n",
    "    else:\n",
    "        return 0\n",
    "\n",
    "\n",
    "count = 0\n",
    "for line in input_code.split(\"\\n\"):\n",
    "     count+=count_code_lines(line)\n",
    "print(count)"
   ]
  },
  {
   "cell_type": "markdown",
   "metadata": {},
   "source": [
    "7.Write a program to check the strength of a supplied password\n",
    "\n",
    "The length of the password must be at least 8 characters in length\n",
    "The password must contain at least 1 capital letter\n",
    "The password must contain at least 1 digit\n",
    "The password must contain at least 1 special character and allowed special characters are (!,@,#,$,&)\n",
    "                                                                                           \n",
    "We need to provide feedback to the user about the strength of their password\n",
    "\n",
    "Provide the user with a list of reasons why their password is 'weak'                                                                                       \n",
    "Function Name : check_password_strength\n",
    "Input : str\n",
    "Output : tuple (str,list) eg (\"Weak\",[\"The password must contain at least 1 capital letter\"])                                                                                          "
   ]
  },
  {
   "cell_type": "code",
   "execution_count": 14,
   "metadata": {},
   "outputs": [
    {
     "name": "stdout",
     "output_type": "stream",
     "text": [
      "zx$cV5@djj\n",
      "password is strong\n"
     ]
    }
   ],
   "source": [
    "import re\n",
    "def check_password_strength(password):\n",
    "    if len(password) >= 8:\n",
    "        pattern = re.compile(\"[A-Z]+\")\n",
    "        match = re.search(pattern,password)\n",
    "        if match:\n",
    "            pattern = re.compile(\"[0-9]+\")\n",
    "            match = re.search(pattern,password)\n",
    "            if match:\n",
    "                pattern = re.compile(\"[(@)?(#)?(!)?(&)?($)?]{1}\")\n",
    "                match = re.search(pattern,password)\n",
    "                if match:\n",
    "                    return \"password is strong\"\n",
    "                else:\n",
    "                    return (\"weak\",[\"password must contain atleast 1 special character\"])\n",
    "            else:\n",
    "                return (\"weak\",[\"password must contain atleast 1 digit\"])\n",
    "        else:\n",
    "            return (\"weak\",[\"password must contain atleast 1 capital letter\"])\n",
    "        \n",
    "    else:\n",
    "        return \"password must be of atleast 8 characters\"\n",
    "\n",
    "password = input()\n",
    "\n",
    "output = check_password_strength(password)\n",
    "\n",
    "print(\"{}\".format(output))"
   ]
  },
  {
   "cell_type": "markdown",
   "metadata": {},
   "source": [
    "8. Check if given sentence is syntactically correct or not\n",
    "\n",
    "A simple sentence if syntactically correct if it fulfills given rules. The following are given rules.\n",
    " - Sentence must start with a Uppercase character (e.g. Noun/ I/ We/ He etc.)\n",
    " - There must be spaces between words.\n",
    " - Then the sentence must end with a full stop(.).\n",
    " - Two continuous spaces are not allowed.\n",
    " - Two continuous uppercase characters are not allowed.\n",
    " - However the sentence can end after an uppercase character.\n",
    " \n",
    "Function Name : check_sentence\n",
    "Input : str\n",
    "pattern = re.compile(\"^[A-Z]{1}\")\n",
    "        match = re.search(pattern,sentence)\n",
    "        if match:\n",
    "            l = sentence.split(\" \")\n",
    "            print(l)\n",
    "            if l[0] != sentence:\n",
    "                if ' ' not in l:\n",
    "                    if sentence[-1] == '.':\n",
    "                        pattern = re.compile(\"^[A-Z]{2}\")\n",
    "                        match = re.search(pattern,sentence)\n",
    "                        if match:\n",
    "                            return (\"False\",[\"Two continuous uppercase characters are not allowed.\"]) \n",
    "                        else:\n",
    "                            return (\"True\",[\"senetence is syntacticaly correct\"])\n",
    "                    else:\n",
    "                        return (\"False\",[\"Then the sentence must end with a full stop.\"])\n",
    "                else:\n",
    "                    return (\"False\",[\"Two continuous spaces are not allowed.\"])\n",
    "            else:\n",
    "                return (\"False\",[\"There must be spaces between words.\"])\n",
    "        else:\n",
    "            return (\"False\",[\"Sentence must start with a Uppercase character\"])Output : tuple (True/False,list) eg (False,[\"There must be spaces between words.\"]) "
   ]
  },
  {
   "cell_type": "code",
   "execution_count": 86,
   "metadata": {},
   "outputs": [
    {
     "name": "stdout",
     "output_type": "stream",
     "text": [
      "('True', ['sentence is syntactically correct'])\n"
     ]
    }
   ],
   "source": [
    "import re\n",
    "\n",
    "def check_sentence(sentence):\n",
    "    if sentence[0].isupper():\n",
    "        if \" \" in sentence and \" \" not in sentence[-2]:\n",
    "            if \"  \" not in sentence:\n",
    "                if sentence[-1] == \".\":\n",
    "                    pattern = re.compile(\"[A-Z]{2}\")\n",
    "                    match = re.search(pattern,sentence)\n",
    "                    if not match:\n",
    "                        return (\"True\",[\"sentence is syntactically correct\"])\n",
    "                    else:\n",
    "                        return (\"False\",[\"Two continuous uppercase characters are not allowed.\"])\n",
    "                else:\n",
    "                    return (\"False\",[\"Then the sentence must end with a full stop.\"])\n",
    "            else:\n",
    "                return (\"False\",[\"Two continuous spaces are not allowed.\"])\n",
    "        else:\n",
    "            return (\"False\",[\"There must be spaces between words.\"])\n",
    "    else:\n",
    "        return (\"False\",[\"Sentence must start with a Uppercase character\"])\n",
    "        \n",
    "\n",
    "sentence = \"This Is Mysore.\"\n",
    "\n",
    "output = check_sentence(sentence)\n",
    "\n",
    "print(\"{}\".format(output))"
   ]
  },
  {
   "cell_type": "markdown",
   "metadata": {},
   "source": [
    "9.Given an array arr[] of integers and an integer K, the task is to find the greatest contiguous sub-array of size K. \n",
    "\n",
    "Sub-array X is said to be greater than sub-array Y if the first non-matching element in both the sub-arrays has a greater value in X than in Y.\n",
    "\n",
    "For example : \n",
    "Input: arr[] = {1, 4, 3, 2, 5}, K = 4\n",
    "Output: 4 3 2 5\n",
    "Two subarrays are {1, 4, 3, 2} and {4, 3, 2, 5}. First non-matching element from array1 and array 2 : 1 and 4 as 4 is greater \n",
    "Hence, the greater one is {4, 3, 2, 5}\n",
    "\n",
    "Function Name : greatest_sub_array()\n",
    "Input : list\n",
    "Output : list"
   ]
  },
  {
   "cell_type": "code",
   "execution_count": 93,
   "metadata": {},
   "outputs": [
    {
     "name": "stdout",
     "output_type": "stream",
     "text": [
      "4\n",
      "[4, 3, 2, 5]\n"
     ]
    }
   ],
   "source": [
    "arr = [1,4,3,2,5]\n",
    "k = int(input())\n",
    "\n",
    "def greatest_sub_array(arr1,arr2):\n",
    "    greatest = []\n",
    "    for value in zip(arr1,arr2):\n",
    "        if value[0] > value[1]:\n",
    "            greatest = arr1\n",
    "            break\n",
    "        else:\n",
    "            greatest = arr2\n",
    "            \n",
    "            break\n",
    "    return greatest\n",
    "            \n",
    "    \n",
    "\n",
    "def find_sub_arr(arr,k):\n",
    "    rang = len(arr) - k\n",
    "    l = []\n",
    "    for i in range(rang+1):\n",
    "        l.append(arr[i:i+k])\n",
    "    return l[0],l[1]\n",
    "\n",
    "sub_arr_1,sub_arr_2 = find_sub_arr(arr,k)\n",
    "\n",
    "\n",
    "greatest_arr = greatest_sub_array(sub_arr_1,sub_arr_2)\n",
    "\n",
    "print(\"{}\".format(greatest_arr))\n"
   ]
  },
  {
   "cell_type": "markdown",
   "metadata": {},
   "source": [
    "10.Given a list of N integers. The task is to eliminate the minimum number of elements such that in the resulting list the sum of any two adjacent values is even.\n",
    "\n",
    "Numbers = [1, 3, 5, 4, 2]\n",
    "Output = [1, 3, 5] \n",
    "Total elements removed 2\n",
    "Elements to be removed [4,2]\n",
    "\n",
    "Function Name : adj_sum_even()\n",
    "Input : list\n",
    "Output : tuple(int,list)"
   ]
  },
  {
   "cell_type": "code",
   "execution_count": 94,
   "metadata": {},
   "outputs": [
    {
     "name": "stdout",
     "output_type": "stream",
     "text": [
      "(2, [1, 3, 5])\n"
     ]
    }
   ],
   "source": [
    "def adj_sum_even(numbers):\n",
    "    even = []\n",
    "    odd = []\n",
    "    for i in numbers:\n",
    "        if i % 2 == 0:\n",
    "            even.append(i)\n",
    "        else:\n",
    "            odd.append(i)\n",
    "    if len(even) > len(odd):\n",
    "        return (len(odd),even)\n",
    "    else:\n",
    "        return (len(even),odd)\n",
    "\n",
    "numbers = [1,3,5,4,2]\n",
    "\n",
    "result = adj_sum_even(numbers)\n",
    "\n",
    "print(\"{}\".format(result))"
   ]
  }
 ],
 "metadata": {
  "kernelspec": {
   "display_name": "Python 3",
   "language": "python",
   "name": "python3"
  },
  "language_info": {
   "codemirror_mode": {
    "name": "ipython",
    "version": 3
   },
   "file_extension": ".py",
   "mimetype": "text/x-python",
   "name": "python",
   "nbconvert_exporter": "python",
   "pygments_lexer": "ipython3",
   "version": "3.7.0"
  }
 },
 "nbformat": 4,
 "nbformat_minor": 2
}
